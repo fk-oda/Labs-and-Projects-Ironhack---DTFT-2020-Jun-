{
  "nbformat": 4,
  "nbformat_minor": 0,
  "metadata": {
    "kernelspec": {
      "display_name": "Python 3",
      "language": "python",
      "name": "python3"
    },
    "language_info": {
      "codemirror_mode": {
        "name": "ipython",
        "version": 3
      },
      "file_extension": ".py",
      "mimetype": "text/x-python",
      "name": "python",
      "nbconvert_exporter": "python",
      "pygments_lexer": "ipython3",
      "version": "3.7.3"
    },
    "toc": {
      "base_numbering": 1,
      "nav_menu": {},
      "number_sections": true,
      "sideBar": true,
      "skip_h1_title": false,
      "title_cell": "Table of Contents",
      "title_sidebar": "Contents",
      "toc_cell": false,
      "toc_position": {},
      "toc_section_display": true,
      "toc_window_display": false
    },
    "varInspector": {
      "cols": {
        "lenName": 16,
        "lenType": 16,
        "lenVar": 40
      },
      "kernels_config": {
        "python": {
          "delete_cmd_postfix": "",
          "delete_cmd_prefix": "del ",
          "library": "var_list.py",
          "varRefreshCmd": "print(var_dic_list())"
        },
        "r": {
          "delete_cmd_postfix": ") ",
          "delete_cmd_prefix": "rm(",
          "library": "var_list.r",
          "varRefreshCmd": "cat(var_dic_list()) "
        }
      },
      "types_to_exclude": [
        "module",
        "function",
        "builtin_function_or_method",
        "instance",
        "_Feature"
      ],
      "window_display": false
    },
    "colab": {
      "name": "main(string-operations).ipynb",
      "provenance": [],
      "collapsed_sections": [],
      "include_colab_link": true
    }
  },
  "cells": [
    {
      "cell_type": "markdown",
      "metadata": {
        "id": "view-in-github",
        "colab_type": "text"
      },
      "source": [
        "<a href=\"https://colab.research.google.com/github/carolvieirav/Labs/blob/Week-1/main(string_operations).ipynb\" target=\"_parent\"><img src=\"https://colab.research.google.com/assets/colab-badge.svg\" alt=\"Open In Colab\"/></a>"
      ]
    },
    {
      "cell_type": "markdown",
      "metadata": {
        "id": "lFW34xZMVz5y",
        "colab_type": "text"
      },
      "source": [
        "# Before your start:\n",
        "- Read the README.md file\n",
        "- Comment as much as you can and use the resources in the README.md file\n",
        "- Happy learning!"
      ]
    },
    {
      "cell_type": "code",
      "metadata": {
        "id": "asPVfiUxVz56",
        "colab_type": "code",
        "colab": {}
      },
      "source": [
        "import re"
      ],
      "execution_count": 0,
      "outputs": []
    },
    {
      "cell_type": "markdown",
      "metadata": {
        "id": "CMO_KT39Vz6T",
        "colab_type": "text"
      },
      "source": [
        "# Challenge 1 - Combining Strings\n",
        "\n",
        "Combining strings is an important skill to acquire. There are multiple ways of combining strings in Python, as well as combining strings with variables. We will explore this in the first challenge. In the cell below, combine the strings in the list and add spaces between the strings (do not add a space after the last string). Insert a period after the last string."
      ]
    },
    {
      "cell_type": "code",
      "metadata": {
        "id": "lI0TikhOVz6X",
        "colab_type": "code",
        "outputId": "36744b89-8030-437a-8f62-92f03839759d",
        "colab": {
          "base_uri": "https://localhost:8080/",
          "height": 35
        }
      },
      "source": [
        "str_list = ['Durante', 'un', 'tiempo', 'no', 'estuvo', 'segura', 'de', 'si', 'su', 'marido', 'era', 'su', 'marido']\n",
        "\n",
        "print(' '.join(str_list)+'.')"
      ],
      "execution_count": 0,
      "outputs": [
        {
          "output_type": "stream",
          "text": [
            "Durante un tiempo no estuvo segura de si su marido era su marido.\n"
          ],
          "name": "stdout"
        }
      ]
    },
    {
      "cell_type": "markdown",
      "metadata": {
        "id": "tl37z5i3Vz6m",
        "colab_type": "text"
      },
      "source": [
        "In the cell below, use the list of strings to create a grocery list. Start the list with the string `Grocery list: ` and include a comma and a space between each item except for the last one. Include a period at the end. Only include foods in the list that start with the letter 'b' and ensure all foods are lower case."
      ]
    },
    {
      "cell_type": "code",
      "metadata": {
        "id": "EoMyiYdDVz6q",
        "colab_type": "code",
        "outputId": "b0db51a5-9578-49ac-f97a-a55b7a2227ba",
        "colab": {
          "base_uri": "https://localhost:8080/",
          "height": 35
        }
      },
      "source": [
        "food_list = ['Bananas', 'Chocolate', 'bread', 'diapers', 'Ice Cream', 'Brownie Mix', 'broccoli']\n",
        "\n",
        "food_list_b = []\n",
        "\n",
        "for food in food_list:\n",
        "  if food.startswith('b') or food.startswith('B'):\n",
        "    food_list_b.append(food)\n",
        "  \n",
        "grocery_list = ['Grocery List: '+','' '.join(food_list_b).lower()]\n",
        "\n",
        "print(grocery_list)"
      ],
      "execution_count": 0,
      "outputs": [
        {
          "output_type": "stream",
          "text": [
            "['Grocery List: bananas, bread, brownie mix, broccoli']\n"
          ],
          "name": "stdout"
        }
      ]
    },
    {
      "cell_type": "markdown",
      "metadata": {
        "id": "7oJ1MV4LVz63",
        "colab_type": "text"
      },
      "source": [
        "In the cell below, write a function that computes the area of a circle using its radius. Compute the area of the circle and insert the radius and the area between the two strings. Make sure to include spaces between the variable and the strings. \n",
        "\n",
        "Note: You can use the techniques we have learned so far or use f-strings. F-strings allow us to embed code inside strings. You can read more about f-strings [here](https://www.python.org/dev/peps/pep-0498/)."
      ]
    },
    {
      "cell_type": "code",
      "metadata": {
        "id": "caf9pfZMVz69",
        "colab_type": "code",
        "outputId": "68494e9c-31c1-4f8f-96c6-38a1b3e0c51b",
        "colab": {
          "base_uri": "https://localhost:8080/",
          "height": 35
        }
      },
      "source": [
        "import math\n",
        "\n",
        "string1 = \"The area of the circle with radius \"\n",
        "string2  = \"is: \"\n",
        "radius = 4.5\n",
        "\n",
        "def area(x, pi = math.pi):\n",
        "    \"\"\"\n",
        "    This function takes a radius and returns the area of a circle. \n",
        "    We also pass a default value for pi.\n",
        "    \n",
        "    Input: Float (and default value for pi)\n",
        "    Output: Float\n",
        "    \n",
        "    Sample input: 5.0\n",
        "    Sample Output: 78.53981633\n",
        "    \"\"\"\n",
        "    \n",
        "    # Your code here:\n",
        "\n",
        "def area(x, pi = math.pi):\n",
        "  return pi*x*x \n",
        "  \n",
        "    \n",
        "# Your output string here:\n",
        "\n",
        "print(f'{string1}{radius}'+' '+f'{string2}{area(radius)}')"
      ],
      "execution_count": 0,
      "outputs": [
        {
          "output_type": "stream",
          "text": [
            "The area of the circle with radius 4.5 is: 63.61725123519331\n"
          ],
          "name": "stdout"
        }
      ]
    },
    {
      "cell_type": "markdown",
      "metadata": {
        "id": "Y0bvDPUZVz7K",
        "colab_type": "text"
      },
      "source": [
        "# Challenge 2 - Splitting Strings\n",
        "\n",
        "We have first looked at combining strings into one long string. There are times where we need to do the opposite and split the string into smaller components for further analysis. \n",
        "\n",
        "In the cell below, split the string into a list of strings using the space delimiter. Count the frequency of each word in the string in a dictionary. Strip the periods, line breaks and commas from the text. Make sure to remove empty strings from your dictionary."
      ]
    },
    {
      "cell_type": "code",
      "metadata": {
        "id": "jhRtSlgzVz7N",
        "colab_type": "code",
        "outputId": "9b981b5f-0c29-45da-c8ba-190c417116c7",
        "colab": {
          "base_uri": "https://localhost:8080/",
          "height": 807
        }
      },
      "source": [
        "poem = \"\"\"Some say the world will end in fire,\n",
        "Some say in ice.\n",
        "From what I’ve tasted of desire\n",
        "I hold with those who favor fire.\n",
        "But if it had to perish twice,\n",
        "I think I know enough of hate\n",
        "To say that for destruction ice\n",
        "Is also great\n",
        "And would suffice.\"\"\"\n",
        "\n",
        "# Your code here:\n",
        "\n",
        "poem = poem.replace(',',' ').replace('.', ' ').replace(\"'\", ' ').replace('\\n',' ').split(' ')\n",
        "\n",
        "freq_dict = {}\n",
        "for word in poem:\n",
        "  freq_dict.update({word:poem.count(word)})\n",
        "freq_dict"
      ],
      "execution_count": 0,
      "outputs": [
        {
          "output_type": "execute_result",
          "data": {
            "text/plain": [
              "{'': 5,\n",
              " 'And': 1,\n",
              " 'But': 1,\n",
              " 'From': 1,\n",
              " 'I': 3,\n",
              " 'Is': 1,\n",
              " 'I’ve': 1,\n",
              " 'Some': 2,\n",
              " 'To': 1,\n",
              " 'also': 1,\n",
              " 'desire': 1,\n",
              " 'destruction': 1,\n",
              " 'end': 1,\n",
              " 'enough': 1,\n",
              " 'favor': 1,\n",
              " 'fire': 2,\n",
              " 'for': 1,\n",
              " 'great': 1,\n",
              " 'had': 1,\n",
              " 'hate': 1,\n",
              " 'hold': 1,\n",
              " 'ice': 2,\n",
              " 'if': 1,\n",
              " 'in': 2,\n",
              " 'it': 1,\n",
              " 'know': 1,\n",
              " 'of': 2,\n",
              " 'perish': 1,\n",
              " 'say': 3,\n",
              " 'suffice': 1,\n",
              " 'tasted': 1,\n",
              " 'that': 1,\n",
              " 'the': 1,\n",
              " 'think': 1,\n",
              " 'those': 1,\n",
              " 'to': 1,\n",
              " 'twice': 1,\n",
              " 'what': 1,\n",
              " 'who': 1,\n",
              " 'will': 1,\n",
              " 'with': 1,\n",
              " 'world': 1,\n",
              " 'would': 1}"
            ]
          },
          "metadata": {
            "tags": []
          },
          "execution_count": 16
        }
      ]
    },
    {
      "cell_type": "markdown",
      "metadata": {
        "id": "VDbTuHA9Vz7X",
        "colab_type": "text"
      },
      "source": [
        "In the cell below, find all the words that appear in the text and do not appear in the blacklist. You must parse the string but can choose any data structure you wish for the words that do not appear in the blacklist. Remove all non letter characters and convert all words to lower case."
      ]
    },
    {
      "cell_type": "code",
      "metadata": {
        "id": "86GimdeHVz7c",
        "colab_type": "code",
        "outputId": "f9f10141-7075-4187-902d-31f1ee983bfe",
        "colab": {
          "base_uri": "https://localhost:8080/",
          "height": 1000
        }
      },
      "source": [
        "blacklist = ['and', 'as', 'an', 'a', 'the', 'in', 'it']\n",
        "\n",
        "poem = \"\"\"I was angry with my friend; \n",
        "I told my wrath, my wrath did end.\n",
        "I was angry with my foe: \n",
        "I told it not, my wrath did grow. \n",
        "\n",
        "And I waterd it in fears,\n",
        "Night & morning with my tears: \n",
        "And I sunned it with smiles,\n",
        "And with soft deceitful wiles. \n",
        "\n",
        "And it grew both day and night. \n",
        "Till it bore an apple bright. \n",
        "And my foe beheld it shine,\n",
        "And he knew that it was mine. \n",
        "\n",
        "And into my garden stole, \n",
        "When the night had veild the pole; \n",
        "In the morning glad I see; \n",
        "My foe outstretched beneath the tree.\"\"\"\n",
        "\n",
        "# Your code here:\n",
        "\n",
        "poem = poem.lower().split()\n",
        "not_blacklist = []\n",
        "\n",
        "for word in poem:\n",
        "  if word not in blacklist:\n",
        "    not_blacklist.append(word)\n",
        "    print(not_blacklist)"
      ],
      "execution_count": 0,
      "outputs": [
        {
          "output_type": "stream",
          "text": [
            "['i']\n",
            "['i', 'was']\n",
            "['i', 'was', 'angry']\n",
            "['i', 'was', 'angry', 'with']\n",
            "['i', 'was', 'angry', 'with', 'my']\n",
            "['i', 'was', 'angry', 'with', 'my', 'friend;']\n",
            "['i', 'was', 'angry', 'with', 'my', 'friend;', 'i']\n",
            "['i', 'was', 'angry', 'with', 'my', 'friend;', 'i', 'told']\n",
            "['i', 'was', 'angry', 'with', 'my', 'friend;', 'i', 'told', 'my']\n",
            "['i', 'was', 'angry', 'with', 'my', 'friend;', 'i', 'told', 'my', 'wrath,']\n",
            "['i', 'was', 'angry', 'with', 'my', 'friend;', 'i', 'told', 'my', 'wrath,', 'my']\n",
            "['i', 'was', 'angry', 'with', 'my', 'friend;', 'i', 'told', 'my', 'wrath,', 'my', 'wrath']\n",
            "['i', 'was', 'angry', 'with', 'my', 'friend;', 'i', 'told', 'my', 'wrath,', 'my', 'wrath', 'did']\n",
            "['i', 'was', 'angry', 'with', 'my', 'friend;', 'i', 'told', 'my', 'wrath,', 'my', 'wrath', 'did', 'end.']\n",
            "['i', 'was', 'angry', 'with', 'my', 'friend;', 'i', 'told', 'my', 'wrath,', 'my', 'wrath', 'did', 'end.', 'i']\n",
            "['i', 'was', 'angry', 'with', 'my', 'friend;', 'i', 'told', 'my', 'wrath,', 'my', 'wrath', 'did', 'end.', 'i', 'was']\n",
            "['i', 'was', 'angry', 'with', 'my', 'friend;', 'i', 'told', 'my', 'wrath,', 'my', 'wrath', 'did', 'end.', 'i', 'was', 'angry']\n",
            "['i', 'was', 'angry', 'with', 'my', 'friend;', 'i', 'told', 'my', 'wrath,', 'my', 'wrath', 'did', 'end.', 'i', 'was', 'angry', 'with']\n",
            "['i', 'was', 'angry', 'with', 'my', 'friend;', 'i', 'told', 'my', 'wrath,', 'my', 'wrath', 'did', 'end.', 'i', 'was', 'angry', 'with', 'my']\n",
            "['i', 'was', 'angry', 'with', 'my', 'friend;', 'i', 'told', 'my', 'wrath,', 'my', 'wrath', 'did', 'end.', 'i', 'was', 'angry', 'with', 'my', 'foe:']\n",
            "['i', 'was', 'angry', 'with', 'my', 'friend;', 'i', 'told', 'my', 'wrath,', 'my', 'wrath', 'did', 'end.', 'i', 'was', 'angry', 'with', 'my', 'foe:', 'i']\n",
            "['i', 'was', 'angry', 'with', 'my', 'friend;', 'i', 'told', 'my', 'wrath,', 'my', 'wrath', 'did', 'end.', 'i', 'was', 'angry', 'with', 'my', 'foe:', 'i', 'told']\n",
            "['i', 'was', 'angry', 'with', 'my', 'friend;', 'i', 'told', 'my', 'wrath,', 'my', 'wrath', 'did', 'end.', 'i', 'was', 'angry', 'with', 'my', 'foe:', 'i', 'told', 'not,']\n",
            "['i', 'was', 'angry', 'with', 'my', 'friend;', 'i', 'told', 'my', 'wrath,', 'my', 'wrath', 'did', 'end.', 'i', 'was', 'angry', 'with', 'my', 'foe:', 'i', 'told', 'not,', 'my']\n",
            "['i', 'was', 'angry', 'with', 'my', 'friend;', 'i', 'told', 'my', 'wrath,', 'my', 'wrath', 'did', 'end.', 'i', 'was', 'angry', 'with', 'my', 'foe:', 'i', 'told', 'not,', 'my', 'wrath']\n",
            "['i', 'was', 'angry', 'with', 'my', 'friend;', 'i', 'told', 'my', 'wrath,', 'my', 'wrath', 'did', 'end.', 'i', 'was', 'angry', 'with', 'my', 'foe:', 'i', 'told', 'not,', 'my', 'wrath', 'did']\n",
            "['i', 'was', 'angry', 'with', 'my', 'friend;', 'i', 'told', 'my', 'wrath,', 'my', 'wrath', 'did', 'end.', 'i', 'was', 'angry', 'with', 'my', 'foe:', 'i', 'told', 'not,', 'my', 'wrath', 'did', 'grow.']\n",
            "['i', 'was', 'angry', 'with', 'my', 'friend;', 'i', 'told', 'my', 'wrath,', 'my', 'wrath', 'did', 'end.', 'i', 'was', 'angry', 'with', 'my', 'foe:', 'i', 'told', 'not,', 'my', 'wrath', 'did', 'grow.', 'i']\n",
            "['i', 'was', 'angry', 'with', 'my', 'friend;', 'i', 'told', 'my', 'wrath,', 'my', 'wrath', 'did', 'end.', 'i', 'was', 'angry', 'with', 'my', 'foe:', 'i', 'told', 'not,', 'my', 'wrath', 'did', 'grow.', 'i', 'waterd']\n",
            "['i', 'was', 'angry', 'with', 'my', 'friend;', 'i', 'told', 'my', 'wrath,', 'my', 'wrath', 'did', 'end.', 'i', 'was', 'angry', 'with', 'my', 'foe:', 'i', 'told', 'not,', 'my', 'wrath', 'did', 'grow.', 'i', 'waterd', 'fears,']\n",
            "['i', 'was', 'angry', 'with', 'my', 'friend;', 'i', 'told', 'my', 'wrath,', 'my', 'wrath', 'did', 'end.', 'i', 'was', 'angry', 'with', 'my', 'foe:', 'i', 'told', 'not,', 'my', 'wrath', 'did', 'grow.', 'i', 'waterd', 'fears,', 'night']\n",
            "['i', 'was', 'angry', 'with', 'my', 'friend;', 'i', 'told', 'my', 'wrath,', 'my', 'wrath', 'did', 'end.', 'i', 'was', 'angry', 'with', 'my', 'foe:', 'i', 'told', 'not,', 'my', 'wrath', 'did', 'grow.', 'i', 'waterd', 'fears,', 'night', '&']\n",
            "['i', 'was', 'angry', 'with', 'my', 'friend;', 'i', 'told', 'my', 'wrath,', 'my', 'wrath', 'did', 'end.', 'i', 'was', 'angry', 'with', 'my', 'foe:', 'i', 'told', 'not,', 'my', 'wrath', 'did', 'grow.', 'i', 'waterd', 'fears,', 'night', '&', 'morning']\n",
            "['i', 'was', 'angry', 'with', 'my', 'friend;', 'i', 'told', 'my', 'wrath,', 'my', 'wrath', 'did', 'end.', 'i', 'was', 'angry', 'with', 'my', 'foe:', 'i', 'told', 'not,', 'my', 'wrath', 'did', 'grow.', 'i', 'waterd', 'fears,', 'night', '&', 'morning', 'with']\n",
            "['i', 'was', 'angry', 'with', 'my', 'friend;', 'i', 'told', 'my', 'wrath,', 'my', 'wrath', 'did', 'end.', 'i', 'was', 'angry', 'with', 'my', 'foe:', 'i', 'told', 'not,', 'my', 'wrath', 'did', 'grow.', 'i', 'waterd', 'fears,', 'night', '&', 'morning', 'with', 'my']\n",
            "['i', 'was', 'angry', 'with', 'my', 'friend;', 'i', 'told', 'my', 'wrath,', 'my', 'wrath', 'did', 'end.', 'i', 'was', 'angry', 'with', 'my', 'foe:', 'i', 'told', 'not,', 'my', 'wrath', 'did', 'grow.', 'i', 'waterd', 'fears,', 'night', '&', 'morning', 'with', 'my', 'tears:']\n",
            "['i', 'was', 'angry', 'with', 'my', 'friend;', 'i', 'told', 'my', 'wrath,', 'my', 'wrath', 'did', 'end.', 'i', 'was', 'angry', 'with', 'my', 'foe:', 'i', 'told', 'not,', 'my', 'wrath', 'did', 'grow.', 'i', 'waterd', 'fears,', 'night', '&', 'morning', 'with', 'my', 'tears:', 'i']\n",
            "['i', 'was', 'angry', 'with', 'my', 'friend;', 'i', 'told', 'my', 'wrath,', 'my', 'wrath', 'did', 'end.', 'i', 'was', 'angry', 'with', 'my', 'foe:', 'i', 'told', 'not,', 'my', 'wrath', 'did', 'grow.', 'i', 'waterd', 'fears,', 'night', '&', 'morning', 'with', 'my', 'tears:', 'i', 'sunned']\n",
            "['i', 'was', 'angry', 'with', 'my', 'friend;', 'i', 'told', 'my', 'wrath,', 'my', 'wrath', 'did', 'end.', 'i', 'was', 'angry', 'with', 'my', 'foe:', 'i', 'told', 'not,', 'my', 'wrath', 'did', 'grow.', 'i', 'waterd', 'fears,', 'night', '&', 'morning', 'with', 'my', 'tears:', 'i', 'sunned', 'with']\n",
            "['i', 'was', 'angry', 'with', 'my', 'friend;', 'i', 'told', 'my', 'wrath,', 'my', 'wrath', 'did', 'end.', 'i', 'was', 'angry', 'with', 'my', 'foe:', 'i', 'told', 'not,', 'my', 'wrath', 'did', 'grow.', 'i', 'waterd', 'fears,', 'night', '&', 'morning', 'with', 'my', 'tears:', 'i', 'sunned', 'with', 'smiles,']\n",
            "['i', 'was', 'angry', 'with', 'my', 'friend;', 'i', 'told', 'my', 'wrath,', 'my', 'wrath', 'did', 'end.', 'i', 'was', 'angry', 'with', 'my', 'foe:', 'i', 'told', 'not,', 'my', 'wrath', 'did', 'grow.', 'i', 'waterd', 'fears,', 'night', '&', 'morning', 'with', 'my', 'tears:', 'i', 'sunned', 'with', 'smiles,', 'with']\n",
            "['i', 'was', 'angry', 'with', 'my', 'friend;', 'i', 'told', 'my', 'wrath,', 'my', 'wrath', 'did', 'end.', 'i', 'was', 'angry', 'with', 'my', 'foe:', 'i', 'told', 'not,', 'my', 'wrath', 'did', 'grow.', 'i', 'waterd', 'fears,', 'night', '&', 'morning', 'with', 'my', 'tears:', 'i', 'sunned', 'with', 'smiles,', 'with', 'soft']\n",
            "['i', 'was', 'angry', 'with', 'my', 'friend;', 'i', 'told', 'my', 'wrath,', 'my', 'wrath', 'did', 'end.', 'i', 'was', 'angry', 'with', 'my', 'foe:', 'i', 'told', 'not,', 'my', 'wrath', 'did', 'grow.', 'i', 'waterd', 'fears,', 'night', '&', 'morning', 'with', 'my', 'tears:', 'i', 'sunned', 'with', 'smiles,', 'with', 'soft', 'deceitful']\n",
            "['i', 'was', 'angry', 'with', 'my', 'friend;', 'i', 'told', 'my', 'wrath,', 'my', 'wrath', 'did', 'end.', 'i', 'was', 'angry', 'with', 'my', 'foe:', 'i', 'told', 'not,', 'my', 'wrath', 'did', 'grow.', 'i', 'waterd', 'fears,', 'night', '&', 'morning', 'with', 'my', 'tears:', 'i', 'sunned', 'with', 'smiles,', 'with', 'soft', 'deceitful', 'wiles.']\n",
            "['i', 'was', 'angry', 'with', 'my', 'friend;', 'i', 'told', 'my', 'wrath,', 'my', 'wrath', 'did', 'end.', 'i', 'was', 'angry', 'with', 'my', 'foe:', 'i', 'told', 'not,', 'my', 'wrath', 'did', 'grow.', 'i', 'waterd', 'fears,', 'night', '&', 'morning', 'with', 'my', 'tears:', 'i', 'sunned', 'with', 'smiles,', 'with', 'soft', 'deceitful', 'wiles.', 'grew']\n",
            "['i', 'was', 'angry', 'with', 'my', 'friend;', 'i', 'told', 'my', 'wrath,', 'my', 'wrath', 'did', 'end.', 'i', 'was', 'angry', 'with', 'my', 'foe:', 'i', 'told', 'not,', 'my', 'wrath', 'did', 'grow.', 'i', 'waterd', 'fears,', 'night', '&', 'morning', 'with', 'my', 'tears:', 'i', 'sunned', 'with', 'smiles,', 'with', 'soft', 'deceitful', 'wiles.', 'grew', 'both']\n",
            "['i', 'was', 'angry', 'with', 'my', 'friend;', 'i', 'told', 'my', 'wrath,', 'my', 'wrath', 'did', 'end.', 'i', 'was', 'angry', 'with', 'my', 'foe:', 'i', 'told', 'not,', 'my', 'wrath', 'did', 'grow.', 'i', 'waterd', 'fears,', 'night', '&', 'morning', 'with', 'my', 'tears:', 'i', 'sunned', 'with', 'smiles,', 'with', 'soft', 'deceitful', 'wiles.', 'grew', 'both', 'day']\n",
            "['i', 'was', 'angry', 'with', 'my', 'friend;', 'i', 'told', 'my', 'wrath,', 'my', 'wrath', 'did', 'end.', 'i', 'was', 'angry', 'with', 'my', 'foe:', 'i', 'told', 'not,', 'my', 'wrath', 'did', 'grow.', 'i', 'waterd', 'fears,', 'night', '&', 'morning', 'with', 'my', 'tears:', 'i', 'sunned', 'with', 'smiles,', 'with', 'soft', 'deceitful', 'wiles.', 'grew', 'both', 'day', 'night.']\n",
            "['i', 'was', 'angry', 'with', 'my', 'friend;', 'i', 'told', 'my', 'wrath,', 'my', 'wrath', 'did', 'end.', 'i', 'was', 'angry', 'with', 'my', 'foe:', 'i', 'told', 'not,', 'my', 'wrath', 'did', 'grow.', 'i', 'waterd', 'fears,', 'night', '&', 'morning', 'with', 'my', 'tears:', 'i', 'sunned', 'with', 'smiles,', 'with', 'soft', 'deceitful', 'wiles.', 'grew', 'both', 'day', 'night.', 'till']\n",
            "['i', 'was', 'angry', 'with', 'my', 'friend;', 'i', 'told', 'my', 'wrath,', 'my', 'wrath', 'did', 'end.', 'i', 'was', 'angry', 'with', 'my', 'foe:', 'i', 'told', 'not,', 'my', 'wrath', 'did', 'grow.', 'i', 'waterd', 'fears,', 'night', '&', 'morning', 'with', 'my', 'tears:', 'i', 'sunned', 'with', 'smiles,', 'with', 'soft', 'deceitful', 'wiles.', 'grew', 'both', 'day', 'night.', 'till', 'bore']\n",
            "['i', 'was', 'angry', 'with', 'my', 'friend;', 'i', 'told', 'my', 'wrath,', 'my', 'wrath', 'did', 'end.', 'i', 'was', 'angry', 'with', 'my', 'foe:', 'i', 'told', 'not,', 'my', 'wrath', 'did', 'grow.', 'i', 'waterd', 'fears,', 'night', '&', 'morning', 'with', 'my', 'tears:', 'i', 'sunned', 'with', 'smiles,', 'with', 'soft', 'deceitful', 'wiles.', 'grew', 'both', 'day', 'night.', 'till', 'bore', 'apple']\n",
            "['i', 'was', 'angry', 'with', 'my', 'friend;', 'i', 'told', 'my', 'wrath,', 'my', 'wrath', 'did', 'end.', 'i', 'was', 'angry', 'with', 'my', 'foe:', 'i', 'told', 'not,', 'my', 'wrath', 'did', 'grow.', 'i', 'waterd', 'fears,', 'night', '&', 'morning', 'with', 'my', 'tears:', 'i', 'sunned', 'with', 'smiles,', 'with', 'soft', 'deceitful', 'wiles.', 'grew', 'both', 'day', 'night.', 'till', 'bore', 'apple', 'bright.']\n",
            "['i', 'was', 'angry', 'with', 'my', 'friend;', 'i', 'told', 'my', 'wrath,', 'my', 'wrath', 'did', 'end.', 'i', 'was', 'angry', 'with', 'my', 'foe:', 'i', 'told', 'not,', 'my', 'wrath', 'did', 'grow.', 'i', 'waterd', 'fears,', 'night', '&', 'morning', 'with', 'my', 'tears:', 'i', 'sunned', 'with', 'smiles,', 'with', 'soft', 'deceitful', 'wiles.', 'grew', 'both', 'day', 'night.', 'till', 'bore', 'apple', 'bright.', 'my']\n",
            "['i', 'was', 'angry', 'with', 'my', 'friend;', 'i', 'told', 'my', 'wrath,', 'my', 'wrath', 'did', 'end.', 'i', 'was', 'angry', 'with', 'my', 'foe:', 'i', 'told', 'not,', 'my', 'wrath', 'did', 'grow.', 'i', 'waterd', 'fears,', 'night', '&', 'morning', 'with', 'my', 'tears:', 'i', 'sunned', 'with', 'smiles,', 'with', 'soft', 'deceitful', 'wiles.', 'grew', 'both', 'day', 'night.', 'till', 'bore', 'apple', 'bright.', 'my', 'foe']\n",
            "['i', 'was', 'angry', 'with', 'my', 'friend;', 'i', 'told', 'my', 'wrath,', 'my', 'wrath', 'did', 'end.', 'i', 'was', 'angry', 'with', 'my', 'foe:', 'i', 'told', 'not,', 'my', 'wrath', 'did', 'grow.', 'i', 'waterd', 'fears,', 'night', '&', 'morning', 'with', 'my', 'tears:', 'i', 'sunned', 'with', 'smiles,', 'with', 'soft', 'deceitful', 'wiles.', 'grew', 'both', 'day', 'night.', 'till', 'bore', 'apple', 'bright.', 'my', 'foe', 'beheld']\n",
            "['i', 'was', 'angry', 'with', 'my', 'friend;', 'i', 'told', 'my', 'wrath,', 'my', 'wrath', 'did', 'end.', 'i', 'was', 'angry', 'with', 'my', 'foe:', 'i', 'told', 'not,', 'my', 'wrath', 'did', 'grow.', 'i', 'waterd', 'fears,', 'night', '&', 'morning', 'with', 'my', 'tears:', 'i', 'sunned', 'with', 'smiles,', 'with', 'soft', 'deceitful', 'wiles.', 'grew', 'both', 'day', 'night.', 'till', 'bore', 'apple', 'bright.', 'my', 'foe', 'beheld', 'shine,']\n",
            "['i', 'was', 'angry', 'with', 'my', 'friend;', 'i', 'told', 'my', 'wrath,', 'my', 'wrath', 'did', 'end.', 'i', 'was', 'angry', 'with', 'my', 'foe:', 'i', 'told', 'not,', 'my', 'wrath', 'did', 'grow.', 'i', 'waterd', 'fears,', 'night', '&', 'morning', 'with', 'my', 'tears:', 'i', 'sunned', 'with', 'smiles,', 'with', 'soft', 'deceitful', 'wiles.', 'grew', 'both', 'day', 'night.', 'till', 'bore', 'apple', 'bright.', 'my', 'foe', 'beheld', 'shine,', 'he']\n",
            "['i', 'was', 'angry', 'with', 'my', 'friend;', 'i', 'told', 'my', 'wrath,', 'my', 'wrath', 'did', 'end.', 'i', 'was', 'angry', 'with', 'my', 'foe:', 'i', 'told', 'not,', 'my', 'wrath', 'did', 'grow.', 'i', 'waterd', 'fears,', 'night', '&', 'morning', 'with', 'my', 'tears:', 'i', 'sunned', 'with', 'smiles,', 'with', 'soft', 'deceitful', 'wiles.', 'grew', 'both', 'day', 'night.', 'till', 'bore', 'apple', 'bright.', 'my', 'foe', 'beheld', 'shine,', 'he', 'knew']\n",
            "['i', 'was', 'angry', 'with', 'my', 'friend;', 'i', 'told', 'my', 'wrath,', 'my', 'wrath', 'did', 'end.', 'i', 'was', 'angry', 'with', 'my', 'foe:', 'i', 'told', 'not,', 'my', 'wrath', 'did', 'grow.', 'i', 'waterd', 'fears,', 'night', '&', 'morning', 'with', 'my', 'tears:', 'i', 'sunned', 'with', 'smiles,', 'with', 'soft', 'deceitful', 'wiles.', 'grew', 'both', 'day', 'night.', 'till', 'bore', 'apple', 'bright.', 'my', 'foe', 'beheld', 'shine,', 'he', 'knew', 'that']\n",
            "['i', 'was', 'angry', 'with', 'my', 'friend;', 'i', 'told', 'my', 'wrath,', 'my', 'wrath', 'did', 'end.', 'i', 'was', 'angry', 'with', 'my', 'foe:', 'i', 'told', 'not,', 'my', 'wrath', 'did', 'grow.', 'i', 'waterd', 'fears,', 'night', '&', 'morning', 'with', 'my', 'tears:', 'i', 'sunned', 'with', 'smiles,', 'with', 'soft', 'deceitful', 'wiles.', 'grew', 'both', 'day', 'night.', 'till', 'bore', 'apple', 'bright.', 'my', 'foe', 'beheld', 'shine,', 'he', 'knew', 'that', 'was']\n",
            "['i', 'was', 'angry', 'with', 'my', 'friend;', 'i', 'told', 'my', 'wrath,', 'my', 'wrath', 'did', 'end.', 'i', 'was', 'angry', 'with', 'my', 'foe:', 'i', 'told', 'not,', 'my', 'wrath', 'did', 'grow.', 'i', 'waterd', 'fears,', 'night', '&', 'morning', 'with', 'my', 'tears:', 'i', 'sunned', 'with', 'smiles,', 'with', 'soft', 'deceitful', 'wiles.', 'grew', 'both', 'day', 'night.', 'till', 'bore', 'apple', 'bright.', 'my', 'foe', 'beheld', 'shine,', 'he', 'knew', 'that', 'was', 'mine.']\n",
            "['i', 'was', 'angry', 'with', 'my', 'friend;', 'i', 'told', 'my', 'wrath,', 'my', 'wrath', 'did', 'end.', 'i', 'was', 'angry', 'with', 'my', 'foe:', 'i', 'told', 'not,', 'my', 'wrath', 'did', 'grow.', 'i', 'waterd', 'fears,', 'night', '&', 'morning', 'with', 'my', 'tears:', 'i', 'sunned', 'with', 'smiles,', 'with', 'soft', 'deceitful', 'wiles.', 'grew', 'both', 'day', 'night.', 'till', 'bore', 'apple', 'bright.', 'my', 'foe', 'beheld', 'shine,', 'he', 'knew', 'that', 'was', 'mine.', 'into']\n",
            "['i', 'was', 'angry', 'with', 'my', 'friend;', 'i', 'told', 'my', 'wrath,', 'my', 'wrath', 'did', 'end.', 'i', 'was', 'angry', 'with', 'my', 'foe:', 'i', 'told', 'not,', 'my', 'wrath', 'did', 'grow.', 'i', 'waterd', 'fears,', 'night', '&', 'morning', 'with', 'my', 'tears:', 'i', 'sunned', 'with', 'smiles,', 'with', 'soft', 'deceitful', 'wiles.', 'grew', 'both', 'day', 'night.', 'till', 'bore', 'apple', 'bright.', 'my', 'foe', 'beheld', 'shine,', 'he', 'knew', 'that', 'was', 'mine.', 'into', 'my']\n",
            "['i', 'was', 'angry', 'with', 'my', 'friend;', 'i', 'told', 'my', 'wrath,', 'my', 'wrath', 'did', 'end.', 'i', 'was', 'angry', 'with', 'my', 'foe:', 'i', 'told', 'not,', 'my', 'wrath', 'did', 'grow.', 'i', 'waterd', 'fears,', 'night', '&', 'morning', 'with', 'my', 'tears:', 'i', 'sunned', 'with', 'smiles,', 'with', 'soft', 'deceitful', 'wiles.', 'grew', 'both', 'day', 'night.', 'till', 'bore', 'apple', 'bright.', 'my', 'foe', 'beheld', 'shine,', 'he', 'knew', 'that', 'was', 'mine.', 'into', 'my', 'garden']\n",
            "['i', 'was', 'angry', 'with', 'my', 'friend;', 'i', 'told', 'my', 'wrath,', 'my', 'wrath', 'did', 'end.', 'i', 'was', 'angry', 'with', 'my', 'foe:', 'i', 'told', 'not,', 'my', 'wrath', 'did', 'grow.', 'i', 'waterd', 'fears,', 'night', '&', 'morning', 'with', 'my', 'tears:', 'i', 'sunned', 'with', 'smiles,', 'with', 'soft', 'deceitful', 'wiles.', 'grew', 'both', 'day', 'night.', 'till', 'bore', 'apple', 'bright.', 'my', 'foe', 'beheld', 'shine,', 'he', 'knew', 'that', 'was', 'mine.', 'into', 'my', 'garden', 'stole,']\n",
            "['i', 'was', 'angry', 'with', 'my', 'friend;', 'i', 'told', 'my', 'wrath,', 'my', 'wrath', 'did', 'end.', 'i', 'was', 'angry', 'with', 'my', 'foe:', 'i', 'told', 'not,', 'my', 'wrath', 'did', 'grow.', 'i', 'waterd', 'fears,', 'night', '&', 'morning', 'with', 'my', 'tears:', 'i', 'sunned', 'with', 'smiles,', 'with', 'soft', 'deceitful', 'wiles.', 'grew', 'both', 'day', 'night.', 'till', 'bore', 'apple', 'bright.', 'my', 'foe', 'beheld', 'shine,', 'he', 'knew', 'that', 'was', 'mine.', 'into', 'my', 'garden', 'stole,', 'when']\n",
            "['i', 'was', 'angry', 'with', 'my', 'friend;', 'i', 'told', 'my', 'wrath,', 'my', 'wrath', 'did', 'end.', 'i', 'was', 'angry', 'with', 'my', 'foe:', 'i', 'told', 'not,', 'my', 'wrath', 'did', 'grow.', 'i', 'waterd', 'fears,', 'night', '&', 'morning', 'with', 'my', 'tears:', 'i', 'sunned', 'with', 'smiles,', 'with', 'soft', 'deceitful', 'wiles.', 'grew', 'both', 'day', 'night.', 'till', 'bore', 'apple', 'bright.', 'my', 'foe', 'beheld', 'shine,', 'he', 'knew', 'that', 'was', 'mine.', 'into', 'my', 'garden', 'stole,', 'when', 'night']\n",
            "['i', 'was', 'angry', 'with', 'my', 'friend;', 'i', 'told', 'my', 'wrath,', 'my', 'wrath', 'did', 'end.', 'i', 'was', 'angry', 'with', 'my', 'foe:', 'i', 'told', 'not,', 'my', 'wrath', 'did', 'grow.', 'i', 'waterd', 'fears,', 'night', '&', 'morning', 'with', 'my', 'tears:', 'i', 'sunned', 'with', 'smiles,', 'with', 'soft', 'deceitful', 'wiles.', 'grew', 'both', 'day', 'night.', 'till', 'bore', 'apple', 'bright.', 'my', 'foe', 'beheld', 'shine,', 'he', 'knew', 'that', 'was', 'mine.', 'into', 'my', 'garden', 'stole,', 'when', 'night', 'had']\n",
            "['i', 'was', 'angry', 'with', 'my', 'friend;', 'i', 'told', 'my', 'wrath,', 'my', 'wrath', 'did', 'end.', 'i', 'was', 'angry', 'with', 'my', 'foe:', 'i', 'told', 'not,', 'my', 'wrath', 'did', 'grow.', 'i', 'waterd', 'fears,', 'night', '&', 'morning', 'with', 'my', 'tears:', 'i', 'sunned', 'with', 'smiles,', 'with', 'soft', 'deceitful', 'wiles.', 'grew', 'both', 'day', 'night.', 'till', 'bore', 'apple', 'bright.', 'my', 'foe', 'beheld', 'shine,', 'he', 'knew', 'that', 'was', 'mine.', 'into', 'my', 'garden', 'stole,', 'when', 'night', 'had', 'veild']\n",
            "['i', 'was', 'angry', 'with', 'my', 'friend;', 'i', 'told', 'my', 'wrath,', 'my', 'wrath', 'did', 'end.', 'i', 'was', 'angry', 'with', 'my', 'foe:', 'i', 'told', 'not,', 'my', 'wrath', 'did', 'grow.', 'i', 'waterd', 'fears,', 'night', '&', 'morning', 'with', 'my', 'tears:', 'i', 'sunned', 'with', 'smiles,', 'with', 'soft', 'deceitful', 'wiles.', 'grew', 'both', 'day', 'night.', 'till', 'bore', 'apple', 'bright.', 'my', 'foe', 'beheld', 'shine,', 'he', 'knew', 'that', 'was', 'mine.', 'into', 'my', 'garden', 'stole,', 'when', 'night', 'had', 'veild', 'pole;']\n",
            "['i', 'was', 'angry', 'with', 'my', 'friend;', 'i', 'told', 'my', 'wrath,', 'my', 'wrath', 'did', 'end.', 'i', 'was', 'angry', 'with', 'my', 'foe:', 'i', 'told', 'not,', 'my', 'wrath', 'did', 'grow.', 'i', 'waterd', 'fears,', 'night', '&', 'morning', 'with', 'my', 'tears:', 'i', 'sunned', 'with', 'smiles,', 'with', 'soft', 'deceitful', 'wiles.', 'grew', 'both', 'day', 'night.', 'till', 'bore', 'apple', 'bright.', 'my', 'foe', 'beheld', 'shine,', 'he', 'knew', 'that', 'was', 'mine.', 'into', 'my', 'garden', 'stole,', 'when', 'night', 'had', 'veild', 'pole;', 'morning']\n",
            "['i', 'was', 'angry', 'with', 'my', 'friend;', 'i', 'told', 'my', 'wrath,', 'my', 'wrath', 'did', 'end.', 'i', 'was', 'angry', 'with', 'my', 'foe:', 'i', 'told', 'not,', 'my', 'wrath', 'did', 'grow.', 'i', 'waterd', 'fears,', 'night', '&', 'morning', 'with', 'my', 'tears:', 'i', 'sunned', 'with', 'smiles,', 'with', 'soft', 'deceitful', 'wiles.', 'grew', 'both', 'day', 'night.', 'till', 'bore', 'apple', 'bright.', 'my', 'foe', 'beheld', 'shine,', 'he', 'knew', 'that', 'was', 'mine.', 'into', 'my', 'garden', 'stole,', 'when', 'night', 'had', 'veild', 'pole;', 'morning', 'glad']\n",
            "['i', 'was', 'angry', 'with', 'my', 'friend;', 'i', 'told', 'my', 'wrath,', 'my', 'wrath', 'did', 'end.', 'i', 'was', 'angry', 'with', 'my', 'foe:', 'i', 'told', 'not,', 'my', 'wrath', 'did', 'grow.', 'i', 'waterd', 'fears,', 'night', '&', 'morning', 'with', 'my', 'tears:', 'i', 'sunned', 'with', 'smiles,', 'with', 'soft', 'deceitful', 'wiles.', 'grew', 'both', 'day', 'night.', 'till', 'bore', 'apple', 'bright.', 'my', 'foe', 'beheld', 'shine,', 'he', 'knew', 'that', 'was', 'mine.', 'into', 'my', 'garden', 'stole,', 'when', 'night', 'had', 'veild', 'pole;', 'morning', 'glad', 'i']\n",
            "['i', 'was', 'angry', 'with', 'my', 'friend;', 'i', 'told', 'my', 'wrath,', 'my', 'wrath', 'did', 'end.', 'i', 'was', 'angry', 'with', 'my', 'foe:', 'i', 'told', 'not,', 'my', 'wrath', 'did', 'grow.', 'i', 'waterd', 'fears,', 'night', '&', 'morning', 'with', 'my', 'tears:', 'i', 'sunned', 'with', 'smiles,', 'with', 'soft', 'deceitful', 'wiles.', 'grew', 'both', 'day', 'night.', 'till', 'bore', 'apple', 'bright.', 'my', 'foe', 'beheld', 'shine,', 'he', 'knew', 'that', 'was', 'mine.', 'into', 'my', 'garden', 'stole,', 'when', 'night', 'had', 'veild', 'pole;', 'morning', 'glad', 'i', 'see;']\n",
            "['i', 'was', 'angry', 'with', 'my', 'friend;', 'i', 'told', 'my', 'wrath,', 'my', 'wrath', 'did', 'end.', 'i', 'was', 'angry', 'with', 'my', 'foe:', 'i', 'told', 'not,', 'my', 'wrath', 'did', 'grow.', 'i', 'waterd', 'fears,', 'night', '&', 'morning', 'with', 'my', 'tears:', 'i', 'sunned', 'with', 'smiles,', 'with', 'soft', 'deceitful', 'wiles.', 'grew', 'both', 'day', 'night.', 'till', 'bore', 'apple', 'bright.', 'my', 'foe', 'beheld', 'shine,', 'he', 'knew', 'that', 'was', 'mine.', 'into', 'my', 'garden', 'stole,', 'when', 'night', 'had', 'veild', 'pole;', 'morning', 'glad', 'i', 'see;', 'my']\n",
            "['i', 'was', 'angry', 'with', 'my', 'friend;', 'i', 'told', 'my', 'wrath,', 'my', 'wrath', 'did', 'end.', 'i', 'was', 'angry', 'with', 'my', 'foe:', 'i', 'told', 'not,', 'my', 'wrath', 'did', 'grow.', 'i', 'waterd', 'fears,', 'night', '&', 'morning', 'with', 'my', 'tears:', 'i', 'sunned', 'with', 'smiles,', 'with', 'soft', 'deceitful', 'wiles.', 'grew', 'both', 'day', 'night.', 'till', 'bore', 'apple', 'bright.', 'my', 'foe', 'beheld', 'shine,', 'he', 'knew', 'that', 'was', 'mine.', 'into', 'my', 'garden', 'stole,', 'when', 'night', 'had', 'veild', 'pole;', 'morning', 'glad', 'i', 'see;', 'my', 'foe']\n",
            "['i', 'was', 'angry', 'with', 'my', 'friend;', 'i', 'told', 'my', 'wrath,', 'my', 'wrath', 'did', 'end.', 'i', 'was', 'angry', 'with', 'my', 'foe:', 'i', 'told', 'not,', 'my', 'wrath', 'did', 'grow.', 'i', 'waterd', 'fears,', 'night', '&', 'morning', 'with', 'my', 'tears:', 'i', 'sunned', 'with', 'smiles,', 'with', 'soft', 'deceitful', 'wiles.', 'grew', 'both', 'day', 'night.', 'till', 'bore', 'apple', 'bright.', 'my', 'foe', 'beheld', 'shine,', 'he', 'knew', 'that', 'was', 'mine.', 'into', 'my', 'garden', 'stole,', 'when', 'night', 'had', 'veild', 'pole;', 'morning', 'glad', 'i', 'see;', 'my', 'foe', 'outstretched']\n",
            "['i', 'was', 'angry', 'with', 'my', 'friend;', 'i', 'told', 'my', 'wrath,', 'my', 'wrath', 'did', 'end.', 'i', 'was', 'angry', 'with', 'my', 'foe:', 'i', 'told', 'not,', 'my', 'wrath', 'did', 'grow.', 'i', 'waterd', 'fears,', 'night', '&', 'morning', 'with', 'my', 'tears:', 'i', 'sunned', 'with', 'smiles,', 'with', 'soft', 'deceitful', 'wiles.', 'grew', 'both', 'day', 'night.', 'till', 'bore', 'apple', 'bright.', 'my', 'foe', 'beheld', 'shine,', 'he', 'knew', 'that', 'was', 'mine.', 'into', 'my', 'garden', 'stole,', 'when', 'night', 'had', 'veild', 'pole;', 'morning', 'glad', 'i', 'see;', 'my', 'foe', 'outstretched', 'beneath']\n",
            "['i', 'was', 'angry', 'with', 'my', 'friend;', 'i', 'told', 'my', 'wrath,', 'my', 'wrath', 'did', 'end.', 'i', 'was', 'angry', 'with', 'my', 'foe:', 'i', 'told', 'not,', 'my', 'wrath', 'did', 'grow.', 'i', 'waterd', 'fears,', 'night', '&', 'morning', 'with', 'my', 'tears:', 'i', 'sunned', 'with', 'smiles,', 'with', 'soft', 'deceitful', 'wiles.', 'grew', 'both', 'day', 'night.', 'till', 'bore', 'apple', 'bright.', 'my', 'foe', 'beheld', 'shine,', 'he', 'knew', 'that', 'was', 'mine.', 'into', 'my', 'garden', 'stole,', 'when', 'night', 'had', 'veild', 'pole;', 'morning', 'glad', 'i', 'see;', 'my', 'foe', 'outstretched', 'beneath', 'tree.']\n"
          ],
          "name": "stdout"
        }
      ]
    },
    {
      "cell_type": "markdown",
      "metadata": {
        "id": "uu9x2Z_1Vz7n",
        "colab_type": "text"
      },
      "source": [
        "# Challenge 3 - Regular Expressions\n",
        "\n",
        "Sometimes, we would like to perform more complex manipulations of our string. This is where regular expressions come in handy. In the cell below, return all characters that are upper case from the string specified below."
      ]
    },
    {
      "cell_type": "code",
      "metadata": {
        "id": "RBy3VnaGVz7r",
        "colab_type": "code",
        "outputId": "79de5afb-ba6c-44aa-dc6b-a2f08c6ebc39",
        "colab": {
          "base_uri": "https://localhost:8080/",
          "height": 35
        }
      },
      "source": [
        "poem = \"\"\"The apparition of these faces in the crowd;\n",
        "Petals on a wet, black bough.\"\"\"\n",
        "\n",
        "# Your code here:\n",
        "\n",
        "print(re.findall('[A-Z]', poem))"
      ],
      "execution_count": 0,
      "outputs": [
        {
          "output_type": "stream",
          "text": [
            "['T', 'P']\n"
          ],
          "name": "stdout"
        }
      ]
    },
    {
      "cell_type": "markdown",
      "metadata": {
        "id": "PcODqi9VVz70",
        "colab_type": "text"
      },
      "source": [
        "In the cell below, filter the list provided and return all elements of the list containing a number. To filter the list, use the `re.search` function. Check if the function does not return `None`. You can read more about the `re.search` function [here](https://docs.python.org/3/library/re.html)."
      ]
    },
    {
      "cell_type": "code",
      "metadata": {
        "id": "-ATifkX9Vz73",
        "colab_type": "code",
        "colab": {}
      },
      "source": [
        "data = ['123abc', 'abc123', 'JohnSmith1', 'ABBY4', 'JANE']\n",
        "\n",
        "# Your code here:\n",
        "\n",
        "data_num = []\n",
        "\n",
        "for i in data:\n",
        "  if re.search('[0-9]',i) != None:\n",
        "    data_num.append(i)"
      ],
      "execution_count": 0,
      "outputs": []
    },
    {
      "cell_type": "markdown",
      "metadata": {
        "id": "1K3drpeJVz8C",
        "colab_type": "text"
      },
      "source": [
        "# Bonus Challenge - Regular Expressions II\n",
        "\n",
        "In the cell below, filter the list provided to keep only strings containing at least one digit and at least one lower case letter. As in the previous question, use the `re.search` function and check that the result is not `None`.\n",
        "\n",
        "To read more about regular expressions, check out [this link](https://developers.google.com/edu/python/regular-expressions)."
      ]
    },
    {
      "cell_type": "code",
      "metadata": {
        "id": "35oaSntDVz8H",
        "colab_type": "code",
        "colab": {}
      },
      "source": [
        "data = ['123abc', 'abc123', 'JohnSmith1', 'ABBY4', 'JANE']\n",
        "# Your code here:\n",
        "\n",
        "data_num_lower = []\n",
        "\n",
        "for i in data:\n",
        "  if re.search('[0-9][a-z]', i) != None:\n",
        "    data_num_lower.append(i)"
      ],
      "execution_count": 0,
      "outputs": []
    }
  ]
}