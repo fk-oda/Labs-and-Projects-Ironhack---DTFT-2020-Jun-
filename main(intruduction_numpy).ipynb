{
  "nbformat": 4,
  "nbformat_minor": 0,
  "metadata": {
    "kernelspec": {
      "display_name": "Python 3",
      "language": "python",
      "name": "python3"
    },
    "language_info": {
      "codemirror_mode": {
        "name": "ipython",
        "version": 3
      },
      "file_extension": ".py",
      "mimetype": "text/x-python",
      "name": "python",
      "nbconvert_exporter": "python",
      "pygments_lexer": "ipython3",
      "version": "3.7.3"
    },
    "toc": {
      "base_numbering": 1,
      "nav_menu": {},
      "number_sections": true,
      "sideBar": true,
      "skip_h1_title": false,
      "title_cell": "Table of Contents",
      "title_sidebar": "Contents",
      "toc_cell": false,
      "toc_position": {},
      "toc_section_display": true,
      "toc_window_display": false
    },
    "varInspector": {
      "cols": {
        "lenName": 16,
        "lenType": 16,
        "lenVar": 40
      },
      "kernels_config": {
        "python": {
          "delete_cmd_postfix": "",
          "delete_cmd_prefix": "del ",
          "library": "var_list.py",
          "varRefreshCmd": "print(var_dic_list())"
        },
        "r": {
          "delete_cmd_postfix": ") ",
          "delete_cmd_prefix": "rm(",
          "library": "var_list.r",
          "varRefreshCmd": "cat(var_dic_list()) "
        }
      },
      "types_to_exclude": [
        "module",
        "function",
        "builtin_function_or_method",
        "instance",
        "_Feature"
      ],
      "window_display": false
    },
    "colab": {
      "name": "main.ipynb",
      "provenance": [],
      "include_colab_link": true
    }
  },
  "cells": [
    {
      "cell_type": "markdown",
      "metadata": {
        "id": "view-in-github",
        "colab_type": "text"
      },
      "source": [
        "<a href=\"https://colab.research.google.com/github/carolvieirav/Labs/blob/Week-1/main(intruduction_numpy).ipynb\" target=\"_parent\"><img src=\"https://colab.research.google.com/assets/colab-badge.svg\" alt=\"Open In Colab\"/></a>"
      ]
    },
    {
      "cell_type": "markdown",
      "metadata": {
        "id": "_c5CnjfBlryZ",
        "colab_type": "text"
      },
      "source": [
        "# Intrduction to NumPy\n",
        "\n",
        "\n",
        "#### 1. Import NumPy under the name np."
      ]
    },
    {
      "cell_type": "code",
      "metadata": {
        "id": "n1Ya5Rdnlryi",
        "colab_type": "code",
        "colab": {}
      },
      "source": [
        "# your code here\n",
        "import numpy as np"
      ],
      "execution_count": 0,
      "outputs": []
    },
    {
      "cell_type": "markdown",
      "metadata": {
        "id": "S7FwZbIblrzA",
        "colab_type": "text"
      },
      "source": [
        "#### 2. Print your NumPy version."
      ]
    },
    {
      "cell_type": "code",
      "metadata": {
        "id": "cvelGI9XlrzH",
        "colab_type": "code",
        "outputId": "915e9581-c7eb-4a5c-dcc5-3fd10e9078c6",
        "colab": {
          "base_uri": "https://localhost:8080/",
          "height": 34
        }
      },
      "source": [
        "# your code here\n",
        "np.__version__"
      ],
      "execution_count": 0,
      "outputs": [
        {
          "output_type": "execute_result",
          "data": {
            "text/plain": [
              "'1.17.5'"
            ]
          },
          "metadata": {
            "tags": []
          },
          "execution_count": 5
        }
      ]
    },
    {
      "cell_type": "markdown",
      "metadata": {
        "id": "kN9Tf2H7lrzW",
        "colab_type": "text"
      },
      "source": [
        "#### 3. Generate a 2x3x5 3-dimensional array with random values. Assign the array to variable *a*.\n",
        "**Challenge**: there are at least three easy ways that use numpy to generate random arrays. How many ways can you find?"
      ]
    },
    {
      "cell_type": "code",
      "metadata": {
        "id": "hNsTd_JDlrzc",
        "colab_type": "code",
        "colab": {}
      },
      "source": [
        "# Method 1 \n",
        "a= np.random.random((2,3,5))"
      ],
      "execution_count": 0,
      "outputs": []
    },
    {
      "cell_type": "code",
      "metadata": {
        "id": "KAgd5Sg3lrzs",
        "colab_type": "code",
        "colab": {}
      },
      "source": [
        "# Method 2"
      ],
      "execution_count": 0,
      "outputs": []
    },
    {
      "cell_type": "code",
      "metadata": {
        "id": "jas_GiHplrz5",
        "colab_type": "code",
        "colab": {}
      },
      "source": [
        "# Method 3"
      ],
      "execution_count": 0,
      "outputs": []
    },
    {
      "cell_type": "markdown",
      "metadata": {
        "id": "SeL3AJK0lr0H",
        "colab_type": "text"
      },
      "source": [
        "#### 4. Print *a*.\n"
      ]
    },
    {
      "cell_type": "code",
      "metadata": {
        "id": "edoEkUfglr0K",
        "colab_type": "code",
        "outputId": "b6ae4764-b8ac-42ce-f2b8-b5fc188f7d1f",
        "colab": {
          "base_uri": "https://localhost:8080/",
          "height": 243
        }
      },
      "source": [
        "# your code here\n",
        "print(np.array(a))"
      ],
      "execution_count": 0,
      "outputs": [
        {
          "output_type": "stream",
          "text": [
            "[[[9.66487308e-01 2.88379385e-04 3.87135809e-01 1.26590601e-01\n",
            "   9.56567412e-01]\n",
            "  [6.27448597e-01 7.44550189e-01 1.73333856e-01 4.47800265e-01\n",
            "   1.86447849e-01]\n",
            "  [7.83618575e-01 2.15586850e-01 1.67271366e-01 3.93939030e-01\n",
            "   7.04748790e-01]]\n",
            "\n",
            " [[9.63579476e-01 2.84167819e-01 6.37275644e-01 3.14747013e-01\n",
            "   3.86334107e-01]\n",
            "  [2.75760079e-01 7.46495529e-02 9.39449075e-01 8.98934655e-01\n",
            "   9.28263572e-01]\n",
            "  [8.59678729e-01 2.82548306e-01 6.46321300e-01 9.94645786e-01\n",
            "   4.73117530e-01]]]\n"
          ],
          "name": "stdout"
        }
      ]
    },
    {
      "cell_type": "markdown",
      "metadata": {
        "id": "Sjz5_wCglr0X",
        "colab_type": "text"
      },
      "source": [
        "#### 5. Create a 5x2x3 3-dimensional array with all values equaling 1. Assign the array to variable *b*."
      ]
    },
    {
      "cell_type": "code",
      "metadata": {
        "id": "g1n2UIIblr0c",
        "colab_type": "code",
        "colab": {}
      },
      "source": [
        "# your code here\n",
        "b = np.ones((5,2,3))"
      ],
      "execution_count": 0,
      "outputs": []
    },
    {
      "cell_type": "markdown",
      "metadata": {
        "id": "8EpYfzhGlr0q",
        "colab_type": "text"
      },
      "source": [
        "#### 6. Print *b*.\n"
      ]
    },
    {
      "cell_type": "code",
      "metadata": {
        "id": "Lnyom3bPlr0s",
        "colab_type": "code",
        "outputId": "e5d33224-b032-47ec-dc78-db37495750bb",
        "colab": {
          "base_uri": "https://localhost:8080/",
          "height": 260
        }
      },
      "source": [
        "# your code here\n",
        "print(np.array(b))"
      ],
      "execution_count": 0,
      "outputs": [
        {
          "output_type": "stream",
          "text": [
            "[[[1. 1. 1.]\n",
            "  [1. 1. 1.]]\n",
            "\n",
            " [[1. 1. 1.]\n",
            "  [1. 1. 1.]]\n",
            "\n",
            " [[1. 1. 1.]\n",
            "  [1. 1. 1.]]\n",
            "\n",
            " [[1. 1. 1.]\n",
            "  [1. 1. 1.]]\n",
            "\n",
            " [[1. 1. 1.]\n",
            "  [1. 1. 1.]]]\n"
          ],
          "name": "stdout"
        }
      ]
    },
    {
      "cell_type": "markdown",
      "metadata": {
        "id": "N5wClA2Rlr05",
        "colab_type": "text"
      },
      "source": [
        "#### 7. Do *a* and *b* have the same size? How do you prove that in Python code?"
      ]
    },
    {
      "cell_type": "code",
      "metadata": {
        "id": "h0q7q80Wlr08",
        "colab_type": "code",
        "outputId": "5ea26b6c-551e-423c-be80-e26bd0f07bd7",
        "colab": {
          "base_uri": "https://localhost:8080/",
          "height": 34
        }
      },
      "source": [
        "# your code here\n",
        "if np.array(a).shape is np.array(b).shape:\n",
        "  print(\"It's a match!\")\n",
        "else:\n",
        "  print(\"They have diferent sizes!\")"
      ],
      "execution_count": 0,
      "outputs": [
        {
          "output_type": "stream",
          "text": [
            "They have diferent sizes!\n"
          ],
          "name": "stdout"
        }
      ]
    },
    {
      "cell_type": "markdown",
      "metadata": {
        "id": "wvZOUXuFlr1M",
        "colab_type": "text"
      },
      "source": [
        "#### 8. Are you able to add *a* and *b*? Why or why not?\n"
      ]
    },
    {
      "cell_type": "code",
      "metadata": {
        "id": "y1bfDPBDlr1Q",
        "colab_type": "code",
        "outputId": "63cc8cab-8445-42d8-dac8-08b6e2b08aef",
        "colab": {
          "base_uri": "https://localhost:8080/",
          "height": 185
        }
      },
      "source": [
        "# your answer here\n",
        "a + b\n",
        "print('No, It needs to be in the same structure!')"
      ],
      "execution_count": 0,
      "outputs": [
        {
          "output_type": "error",
          "ename": "ValueError",
          "evalue": "ignored",
          "traceback": [
            "\u001b[0;31m---------------------------------------------------------------------------\u001b[0m",
            "\u001b[0;31mValueError\u001b[0m                                Traceback (most recent call last)",
            "\u001b[0;32m<ipython-input-13-0a0f17de284e>\u001b[0m in \u001b[0;36m<module>\u001b[0;34m()\u001b[0m\n\u001b[0;32m----> 1\u001b[0;31m \u001b[0ma\u001b[0m \u001b[0;34m+\u001b[0m \u001b[0mb\u001b[0m\u001b[0;34m\u001b[0m\u001b[0;34m\u001b[0m\u001b[0m\n\u001b[0m\u001b[1;32m      2\u001b[0m \u001b[0mprint\u001b[0m\u001b[0;34m(\u001b[0m\u001b[0;34m'No, It needs to be in the same structure!'\u001b[0m\u001b[0;34m)\u001b[0m\u001b[0;34m\u001b[0m\u001b[0;34m\u001b[0m\u001b[0m\n",
            "\u001b[0;31mValueError\u001b[0m: operands could not be broadcast together with shapes (2,3,5) (5,2,3) "
          ]
        }
      ]
    },
    {
      "cell_type": "markdown",
      "metadata": {
        "id": "SgQIK6pblr1l",
        "colab_type": "text"
      },
      "source": [
        "#### 9. Reshape *b* so that it has the same structure of *a* (i.e. become a 2x3x5 array). Assign the reshaped array to variable *c*."
      ]
    },
    {
      "cell_type": "code",
      "metadata": {
        "id": "kxW7Kr1Jlr1o",
        "colab_type": "code",
        "colab": {}
      },
      "source": [
        "# your code here\n",
        "c = b.reshape((2,3,5))"
      ],
      "execution_count": 0,
      "outputs": []
    },
    {
      "cell_type": "code",
      "metadata": {
        "id": "rqVhRu5zxCfC",
        "colab_type": "code",
        "outputId": "3aa569d1-a01b-4715-8974-5d8093fbcdb7",
        "colab": {
          "base_uri": "https://localhost:8080/",
          "height": 34
        }
      },
      "source": [
        "c.shape"
      ],
      "execution_count": 0,
      "outputs": [
        {
          "output_type": "execute_result",
          "data": {
            "text/plain": [
              "(2, 3, 5)"
            ]
          },
          "metadata": {
            "tags": []
          },
          "execution_count": 15
        }
      ]
    },
    {
      "cell_type": "markdown",
      "metadata": {
        "id": "gFU1tzvRlr1y",
        "colab_type": "text"
      },
      "source": [
        "#### 10. Try to add *a* and *c*. Now it should work. Assign the sum to variable *d*. But why does it work now?"
      ]
    },
    {
      "cell_type": "code",
      "metadata": {
        "id": "E2XbokxDlr13",
        "colab_type": "code",
        "outputId": "704cb79d-c6ad-4c70-a58b-c598955e219a",
        "colab": {
          "base_uri": "https://localhost:8080/",
          "height": 34
        }
      },
      "source": [
        "# your code/answer here\n",
        "d = a+c\n",
        "print('Now it has the same structure!')"
      ],
      "execution_count": 0,
      "outputs": [
        {
          "output_type": "stream",
          "text": [
            "Now it has the same structure!\n"
          ],
          "name": "stdout"
        }
      ]
    },
    {
      "cell_type": "markdown",
      "metadata": {
        "id": "Xkdgkkmclr2B",
        "colab_type": "text"
      },
      "source": [
        "#### 11. Print *a* and *d*. Notice the difference and relation of the two array in terms of the values? Explain."
      ]
    },
    {
      "cell_type": "code",
      "metadata": {
        "id": "YWv0fpohlr2E",
        "colab_type": "code",
        "outputId": "774bbcb7-9b94-4819-d44e-0b0dd33f6084",
        "colab": {
          "base_uri": "https://localhost:8080/",
          "height": 382
        }
      },
      "source": [
        "# your code/answer here\n",
        "print(a)\n",
        "print(d)\n",
        "print(\"The diferance is the permutation of the arrays with 'c' and the relation between the two is that all values are type float!\")"
      ],
      "execution_count": 0,
      "outputs": [
        {
          "output_type": "stream",
          "text": [
            "[[[9.66487308e-01 2.88379385e-04 3.87135809e-01 1.26590601e-01\n",
            "   9.56567412e-01]\n",
            "  [6.27448597e-01 7.44550189e-01 1.73333856e-01 4.47800265e-01\n",
            "   1.86447849e-01]\n",
            "  [7.83618575e-01 2.15586850e-01 1.67271366e-01 3.93939030e-01\n",
            "   7.04748790e-01]]\n",
            "\n",
            " [[9.63579476e-01 2.84167819e-01 6.37275644e-01 3.14747013e-01\n",
            "   3.86334107e-01]\n",
            "  [2.75760079e-01 7.46495529e-02 9.39449075e-01 8.98934655e-01\n",
            "   9.28263572e-01]\n",
            "  [8.59678729e-01 2.82548306e-01 6.46321300e-01 9.94645786e-01\n",
            "   4.73117530e-01]]]\n",
            "[[[1.96648731 1.00028838 1.38713581 1.1265906  1.95656741]\n",
            "  [1.6274486  1.74455019 1.17333386 1.44780026 1.18644785]\n",
            "  [1.78361858 1.21558685 1.16727137 1.39393903 1.70474879]]\n",
            "\n",
            " [[1.96357948 1.28416782 1.63727564 1.31474701 1.38633411]\n",
            "  [1.27576008 1.07464955 1.93944908 1.89893466 1.92826357]\n",
            "  [1.85967873 1.28254831 1.6463213  1.99464579 1.47311753]]]\n",
            "The diferance is the permutation of the arrays with 'c' and the relation between the two is that all values are type float!\n"
          ],
          "name": "stdout"
        }
      ]
    },
    {
      "cell_type": "markdown",
      "metadata": {
        "id": "Yk60T9JZlr2M",
        "colab_type": "text"
      },
      "source": [
        "#### 12. Multiply *a* and *c*. Assign the result to *e*."
      ]
    },
    {
      "cell_type": "code",
      "metadata": {
        "id": "c2WP8OdBlr2T",
        "colab_type": "code",
        "colab": {}
      },
      "source": [
        "# your code here\n",
        "e = np.multiply(a,c)"
      ],
      "execution_count": 0,
      "outputs": []
    },
    {
      "cell_type": "markdown",
      "metadata": {
        "id": "3_nHVmlblr2d",
        "colab_type": "text"
      },
      "source": [
        "#### 13. Does *e* equal to *a*? Why or why not?\n"
      ]
    },
    {
      "cell_type": "code",
      "metadata": {
        "id": "wsayXOpNlr2g",
        "colab_type": "code",
        "outputId": "4a210e5c-9f7a-4bc7-9433-b9da5e3924de",
        "colab": {
          "base_uri": "https://localhost:8080/",
          "height": 34
        }
      },
      "source": [
        "# your code/answer here\n",
        "e is a\n",
        "print(\"They are not equal because the permutation with 'c' infers diferent values\")"
      ],
      "execution_count": 0,
      "outputs": [
        {
          "output_type": "stream",
          "text": [
            "They are not equal because the permutation with 'c' infers diferent values\n"
          ],
          "name": "stdout"
        }
      ]
    },
    {
      "cell_type": "markdown",
      "metadata": {
        "id": "tsv3LdKBlr2p",
        "colab_type": "text"
      },
      "source": [
        "#### 14. Identify the max, min, and mean values in *d*. Assign those values to variables *d_max*, *d_min* and *d_mean*."
      ]
    },
    {
      "cell_type": "code",
      "metadata": {
        "id": "TnK1-C0Plr2t",
        "colab_type": "code",
        "colab": {}
      },
      "source": [
        "# your code here\n",
        "d_max = np.max(d)\n",
        "d_min = np.min(d)\n",
        "d_mean = np.mean(d)"
      ],
      "execution_count": 0,
      "outputs": []
    },
    {
      "cell_type": "markdown",
      "metadata": {
        "id": "hVAS4O20lr26",
        "colab_type": "text"
      },
      "source": [
        "#### 15. Now we want to label the values in *d*. First create an empty array *f* with the same shape (i.e. 2x3x5) as *d* using `np.empty`.\n"
      ]
    },
    {
      "cell_type": "code",
      "metadata": {
        "id": "ceZ2aAUOlr28",
        "colab_type": "code",
        "colab": {}
      },
      "source": [
        "# your code here\n",
        "\n",
        "f = np.empty((2,3,6))"
      ],
      "execution_count": 0,
      "outputs": []
    },
    {
      "cell_type": "markdown",
      "metadata": {
        "id": "9Rb61VfOlr3H",
        "colab_type": "text"
      },
      "source": [
        "#### 16. Populate the values in *f*. \n",
        "\n",
        "For each value in *d*, if it's larger than *d_min* but smaller than *d_mean*, assign 25 to the corresponding value in *f*. If a value in *d* is larger than *d_mean* but smaller than *d_max*, assign 75 to the corresponding value in *f*. If a value equals to *d_mean*, assign 50 to the corresponding value in *f*. Assign 0 to the corresponding value(s) in *f* for *d_min* in *d*. Assign 100 to the corresponding value(s) in *f* for *d_max* in *d*. In the end, f should have only the following values: 0, 25, 50, 75, and 100.\n",
        "\n",
        "**Note**: you don't have to use Numpy in this question."
      ]
    },
    {
      "cell_type": "code",
      "metadata": {
        "id": "ZRw4sJKelr3L",
        "colab_type": "code",
        "colab": {}
      },
      "source": [
        "# your code here\n",
        "\n",
        "f[(f > d_min) & (f < d_mean)] = 25\n",
        "f[(f > d_mean) & (f < d_max)] = 75\n",
        "f[f == d_mean] = 50\n",
        "f[f == d_min] = 0\n",
        "f[f == d_max] = 10"
      ],
      "execution_count": 0,
      "outputs": []
    },
    {
      "cell_type": "markdown",
      "metadata": {
        "id": "nFuclqzAlr3W",
        "colab_type": "text"
      },
      "source": [
        "\n",
        "\n",
        "#### 17. Print *d* and *f*. Do you have your expected *f*?\n",
        "For instance, if your *d* is:\n",
        "```python\n",
        "[[[1.85836099, 1.67064465, 1.62576044, 1.40243961, 1.88454931],\n",
        "[1.75354326, 1.69403643, 1.36729252, 1.61415071, 1.12104981],\n",
        "[1.72201435, 1.1862918 , 1.87078449, 1.7726778 , 1.88180042]],\n",
        "[[1.44747908, 1.31673383, 1.02000951, 1.52218947, 1.97066381],\n",
        "[1.79129243, 1.74983003, 1.96028037, 1.85166831, 1.65450881],\n",
        "[1.18068344, 1.9587381 , 1.00656599, 1.93402165, 1.73514584]]]\n",
        "```\n",
        "Your *f* should be:\n",
        "```python\n",
        "[[[ 75.,  75.,  75.,  25.,  75.],\n",
        "[ 75.,  75.,  25.,  25.,  25.],\n",
        "[ 75.,  25.,  75.,  75.,  75.]],\n",
        "[[ 25.,  25.,  25.,  25., 100.],\n",
        "[ 75.,  75.,  75.,  75.,  75.],\n",
        "[ 25.,  75.,   0.,  75.,  75.]]]\n",
        "```"
      ]
    },
    {
      "cell_type": "code",
      "metadata": {
        "id": "m0kb6oLXlr3Z",
        "colab_type": "code",
        "colab": {}
      },
      "source": [
        "# your code here\n",
        "print(d)\n",
        "print(f)"
      ],
      "execution_count": 0,
      "outputs": []
    },
    {
      "cell_type": "markdown",
      "metadata": {
        "id": "xCdgXD0Blr3h",
        "colab_type": "text"
      },
      "source": [
        "#### 18. Bonus question: instead of using numbers (i.e. 0, 25, 50, 75, and 100), use string values  (\"A\", \"B\", \"C\", \"D\", and \"E\") to label the array elements. For the example above, the expected result is:\n",
        "\n",
        "```python\n",
        "[[[ 'D',  'D',  'D',  'B',  'D'],\n",
        "[ 'D',  'D',  'B',  'B',  'B'],\n",
        "[ 'D',  'B',  'D',  'D',  'D']],\n",
        "[[ 'B',  'B',  'B',  'B',  'E'],\n",
        "[ 'D',  'D',  'D',  'D',  'D'],\n",
        "[ 'B',  'D',   'A',  'D', 'D']]]\n",
        "```\n",
        "**Note**: you don't have to use Numpy in this question."
      ]
    },
    {
      "cell_type": "code",
      "metadata": {
        "id": "4oiDz1pylr3j",
        "colab_type": "code",
        "colab": {}
      },
      "source": [
        "# your code here"
      ],
      "execution_count": 0,
      "outputs": []
    }
  ]
}